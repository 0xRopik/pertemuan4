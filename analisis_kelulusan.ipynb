# === Tugas Pertemuan 4 ===
# Analisis Kelulusan Mahasiswa
# Nama : Muhamad Ropik
# Kelas : 05TPLE016

# Langkah 1 — Import Library
import pandas as pd
import seaborn as sns
import matplotlib.pyplot as plt
from sklearn.model_selection import train_test_split

# Langkah 2 — Collection
df = pd.read_csv("kelulusan_mahasiswa.csv")
print("=== Info Dataset ===")
print(df.info())
print("\n=== 5 Data Pertama ===")
print(df.head())

# Langkah 3 — Cleaning
print("\n=== Missing Value ===")
print(df.isnull().sum())

df = df.drop_duplicates()

plt.figure(figsize=(5,3))
sns.boxplot(x=df['IPK'])
plt.title("Boxplot IPK")
plt.show()

# Langkah 4 — EDA
print("\n=== Statistik Deskriptif ===")
print(df.describe())

plt.figure(figsize=(5,3))
sns.histplot(df['IPK'], bins=10, kde=True)
plt.title("Distribusi IPK")
plt.show()

plt.figure(figsize=(5,3))
sns.scatterplot(x='IPK', y='Waktu_Belajar_Jam', data=df, hue='Lulus')
plt.title("IPK vs Waktu Belajar (Berdasarkan Kelulusan)")
plt.show()

plt.figure(figsize=(5,3))
sns.heatmap(df.corr(), annot=True, cmap="coolwarm")
plt.title("Korelasi Antar Variabel")
plt.show()

# Langkah 5 — Feature Engineering
df['Rasio_Absensi'] = df['Jumlah_Absensi'] / 14
df['IPK_x_Study'] = df['IPK'] * df['Waktu_Belajar_Jam']

df.to_csv("processed_kelulusan.csv", index=False)

# Langkah 6 — Splitting Dataset
X = df.drop('Lulus', axis=1)
y = df['Lulus']

X_train, X_temp, y_train, y_temp = train_test_split(
    X, y, test_size=0.3, stratify=y, random_state=42)

X_val, X_test, y_val, y_test = train_test_split(
    X_temp, y_temp, test_size=0.5, stratify=y_temp, random_state=42)

print("\n=== Ukuran Dataset ===")
print("Train :", X_train.shape)
print("Validation :", X_val.shape)
print("Test :", X_test.shape)
